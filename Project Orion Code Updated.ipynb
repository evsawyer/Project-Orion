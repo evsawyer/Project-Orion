{
 "cells": [
  {
   "cell_type": "code",
   "execution_count": 3,
   "metadata": {},
   "outputs": [],
   "source": [
    "import pandas as pd\n",
    "import csv\n",
    "import tkinter as tk\n",
    "from tkinter import filedialog"
   ]
  },
  {
   "cell_type": "code",
   "execution_count": 4,
   "metadata": {},
   "outputs": [
    {
     "name": "stdout",
     "output_type": "stream",
     "text": [
      "check\n",
      "check\n",
      "check\n"
     ]
    }
   ],
   "source": [
    "root = tk.Tk()\n",
    "root.withdraw()\n",
    "input_file_path = tk.filedialog.askopenfilename()"
   ]
  },
  {
   "cell_type": "code",
   "execution_count": 5,
   "metadata": {
    "scrolled": true
   },
   "outputs": [
    {
     "name": "stdout",
     "output_type": "stream",
     "text": [
      "check\n"
     ]
    }
   ],
   "source": [
    "df = pd.read_csv(input_file_path, header=1)\n",
    "list_HouseholdId = df['HHID'].to_list()\n",
    "\n",
    "dfs = df.iloc[:,[0,2,3,4,5,6,7]]\n",
    "dft = dfs.set_index('HHID').T\n",
    "\n",
    "l = ['USEquity','DevelopedEquity','EmergingEquity','RealEstate', 'FixedIncome','Other']\n",
    "dft['Type'] = l\n",
    "out = pd.melt(dft, id_vars = ['Type'], value_vars= list_HouseholdId)\n",
    "\n",
    "out.to_csv(r\"C:\\Users\\Everybody\\Documents\\Project Orion\\Orionv4.csv\")"
   ]
  }
 ],
 "metadata": {
  "kernelspec": {
   "display_name": "Python 3",
   "language": "python",
   "name": "python3"
  },
  "language_info": {
   "codemirror_mode": {
    "name": "ipython",
    "version": 3
   },
   "file_extension": ".py",
   "mimetype": "text/x-python",
   "name": "python",
   "nbconvert_exporter": "python",
   "pygments_lexer": "ipython3",
   "version": "3.7.6"
  }
 },
 "nbformat": 4,
 "nbformat_minor": 4
}
